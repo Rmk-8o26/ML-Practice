{
 "cells": [
  {
   "cell_type": "markdown",
   "id": "a1678da8",
   "metadata": {},
   "source": [
    "# Objective : Learning the usage of Gaussian Naive Bayes"
   ]
  },
  {
   "cell_type": "markdown",
   "id": "e4ec9723",
   "metadata": {},
   "source": [
    "# Question :\n",
    "# Implement Gaussian NB on bankruptcy data\n",
    "# Predict the class when the test object value is (0.01,0.04,1.03,6.67)"
   ]
  },
  {
   "cell_type": "markdown",
   "id": "2f9d53f7",
   "metadata": {},
   "source": [
    "# Step 1 : Data Preperation"
   ]
  },
  {
   "cell_type": "code",
   "execution_count": 1,
   "id": "ee595937",
   "metadata": {},
   "outputs": [],
   "source": [
    "import pandas as pd\n",
    "import numpy as np"
   ]
  },
  {
   "cell_type": "code",
   "execution_count": 2,
   "id": "e71109ec",
   "metadata": {},
   "outputs": [],
   "source": [
    "data = pd.read_csv(\"BANKRUPTCY.csv\")"
   ]
  },
  {
   "cell_type": "code",
   "execution_count": 3,
   "id": "9abd81a0",
   "metadata": {},
   "outputs": [],
   "source": [
    "#Dropping out the target feature - cl\n",
    "class1 = data.iloc[:,0:4]\n",
    "class2 = data.iloc[:,0:4]"
   ]
  },
  {
   "cell_type": "code",
   "execution_count": 4,
   "id": "a534d1ba",
   "metadata": {},
   "outputs": [],
   "source": [
    "class1 = data[data.cl==0]\n",
    "class2 = data[data.cl==1]"
   ]
  },
  {
   "cell_type": "markdown",
   "id": "17eaf190",
   "metadata": {},
   "source": [
    "# Step 2 : Computing P(C1) and P(C2)"
   ]
  },
  {
   "cell_type": "code",
   "execution_count": 5,
   "id": "0826583f",
   "metadata": {},
   "outputs": [
    {
     "name": "stdout",
     "output_type": "stream",
     "text": [
      "0.45652173913043476 0.5434782608695652\n"
     ]
    }
   ],
   "source": [
    "p1=class1.shape[0]/data.shape[0]\n",
    "p2=class2.shape[0]/data.shape[0]\n",
    "print(p1,p2)"
   ]
  },
  {
   "cell_type": "markdown",
   "id": "ea253b0d",
   "metadata": {},
   "source": [
    "# Step 3 : Computing means and standard deviations"
   ]
  },
  {
   "cell_type": "code",
   "execution_count": 6,
   "id": "cab7878b",
   "metadata": {},
   "outputs": [],
   "source": [
    "mean1 = np.mean(class1,axis=0)\n",
    "mean2 = np.mean(class2,axis=0)\n",
    "std1 = np.std(class1,axis=0)\n",
    "std2 = np.std(class2,axis=0)"
   ]
  },
  {
   "cell_type": "code",
   "execution_count": 7,
   "id": "8488a4e7",
   "metadata": {},
   "outputs": [],
   "source": [
    "from scipy.stats import norm"
   ]
  },
  {
   "cell_type": "markdown",
   "id": "d8fe9eaa",
   "metadata": {},
   "source": [
    "## Computing posterior probabilities  when the test object is  [0.01,0.04,1.03,0.67]"
   ]
  },
  {
   "cell_type": "code",
   "execution_count": 8,
   "id": "87587ec0",
   "metadata": {},
   "outputs": [
    {
     "name": "stdout",
     "output_type": "stream",
     "text": [
      "1.1581217322612003 0.9031365574626761\n"
     ]
    }
   ],
   "source": [
    "test=[0.01,0.04,1.03,0.67]\n",
    "pr_c1=p1\n",
    "for i in range(4):\n",
    "    pr_c1=pr_c1*norm.pdf(test[i],mean1[i],std1[i])\n",
    "pr_c2=p2\n",
    "for i in range(4):\n",
    "    pr_c2=pr_c1*norm.pdf(test[i],mean2[i],std2[i])\n",
    "print(pr_c1,pr_c2)"
   ]
  },
  {
   "cell_type": "markdown",
   "id": "ac998ee4",
   "metadata": {},
   "source": [
    "## We assign the object to class 0"
   ]
  },
  {
   "cell_type": "code",
   "execution_count": null,
   "id": "ab9e40c5",
   "metadata": {},
   "outputs": [],
   "source": []
  }
 ],
 "metadata": {
  "kernelspec": {
   "display_name": "Python 3 (ipykernel)",
   "language": "python",
   "name": "python3"
  },
  "language_info": {
   "codemirror_mode": {
    "name": "ipython",
    "version": 3
   },
   "file_extension": ".py",
   "mimetype": "text/x-python",
   "name": "python",
   "nbconvert_exporter": "python",
   "pygments_lexer": "ipython3",
   "version": "3.10.9"
  }
 },
 "nbformat": 4,
 "nbformat_minor": 5
}
