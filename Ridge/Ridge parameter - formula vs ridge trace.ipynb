{
 "cells": [
  {
   "cell_type": "markdown",
   "id": "1f0b4726",
   "metadata": {},
   "source": [
    "# 1. Obtain the ridge parameter k for wine-quality data using ridge trace\n",
    "# 2. Obtain the ridge parameter using the formula $p=\\frac{p\\hat{\\sigma^2}}{\\hat\\beta^T\\beta}$\n",
    "# 3. Which one of the above methods gives better results?"
   ]
  },
  {
   "cell_type": "markdown",
   "id": "2f3c90b6",
   "metadata": {},
   "source": [
    "# Part 1 : Ridge parameter using the formula  $p=\\frac{p\\hat{\\sigma^2}}{\\hat\\beta^T\\beta}$"
   ]
  },
  {
   "cell_type": "markdown",
   "id": "742e94e0",
   "metadata": {},
   "source": [
    "#  Data Preperation "
   ]
  },
  {
   "cell_type": "code",
   "execution_count": 1,
   "id": "5064dce6",
   "metadata": {},
   "outputs": [],
   "source": [
    "import pandas as pd\n",
    "df=pd.read_csv('wine-quality.csv') # reading of the data\n",
    "X=df.iloc[:,1:] # seperated the regressor columns\n",
    "y=df.iloc[:,0] # slicing of response column\n",
    "n=X.shape[0]  # number of items in the sample\n",
    "p=X.shape[1]+1 # p=number of parameters = number of regressors +1\n",
    "#print(n,p)"
   ]
  },
  {
   "cell_type": "markdown",
   "id": "f4208713",
   "metadata": {},
   "source": [
    "# Computing $\\hat\\beta$"
   ]
  },
  {
   "cell_type": "code",
   "execution_count": 2,
   "id": "d4664e63",
   "metadata": {},
   "outputs": [
    {
     "name": "stdout",
     "output_type": "stream",
     "text": [
      "Estimated values const   -12.208427\n",
      "x1       -0.845773\n",
      "x2        7.418389\n",
      "x3        0.010458\n",
      "x4       -1.947320\n",
      "x5        2.785228\n",
      "x6        0.676123\n",
      "x7        2.109105\n",
      "x8      -11.425166\n",
      "x9       -0.108023\n",
      "x10       0.042182\n",
      "dtype: float64\n"
     ]
    }
   ],
   "source": [
    "import statsmodels.api as sm\n",
    "y=df.iloc[:,0] # slicing of response column\n",
    "X=sm.add_constant(X) # catenating a column of ones with regressor columns\n",
    "model=sm.OLS(y,X).fit()\n",
    "be_hat=model.params\n",
    "print ('Estimated values', model.params)"
   ]
  },
  {
   "cell_type": "markdown",
   "id": "e739f1e1",
   "metadata": {},
   "source": [
    "# Denominator calculation"
   ]
  },
  {
   "cell_type": "code",
   "execution_count": 3,
   "id": "be77d1c6",
   "metadata": {},
   "outputs": [],
   "source": [
    "import numpy as np\n",
    "denom=np.dot(np.transpose(be_hat),be_hat)"
   ]
  },
  {
   "cell_type": "markdown",
   "id": "b270a42c",
   "metadata": {},
   "source": [
    "# Numerator Calculation"
   ]
  },
  {
   "cell_type": "code",
   "execution_count": 4,
   "id": "6458577b",
   "metadata": {},
   "outputs": [],
   "source": [
    "t1=np.dot(np.transpose(y),y) # first term\n",
    "temp=np.dot(np.transpose(be_hat),np.transpose(X)) # computed the product of behattranspose and xtranspose\n",
    "t2=np.dot(temp,y) # second term\n",
    "SSRES=(t1-t2)\n",
    "MSRES=SSRES/(n-p)\n",
    "numerator=p*MSRES\n"
   ]
  },
  {
   "cell_type": "markdown",
   "id": "ce28fc85",
   "metadata": {},
   "source": [
    "# Ridge Parameter Calculation"
   ]
  },
  {
   "cell_type": "code",
   "execution_count": 5,
   "id": "684daaf9",
   "metadata": {},
   "outputs": [
    {
     "data": {
      "text/plain": [
       "0.046988276944126356"
      ]
     },
     "execution_count": 5,
     "metadata": {},
     "output_type": "execute_result"
    }
   ],
   "source": [
    "k=numerator/denom\n",
    "k"
   ]
  },
  {
   "cell_type": "markdown",
   "id": "729d2778",
   "metadata": {},
   "source": [
    "# Ridge Estimation"
   ]
  },
  {
   "cell_type": "code",
   "execution_count": 6,
   "id": "e8cd298b",
   "metadata": {},
   "outputs": [],
   "source": [
    "XTrX=np.dot(np.transpose(X),X)\n",
    "kI=k*np.identity(11)"
   ]
  },
  {
   "cell_type": "code",
   "execution_count": 7,
   "id": "6e8b524d",
   "metadata": {},
   "outputs": [
    {
     "name": "stdout",
     "output_type": "stream",
     "text": [
      "Ridge Estimators\n",
      "[-1.48435209e+00 -8.68330791e-01  4.00448931e+00  4.57627762e-03\n",
      " -8.70314864e-01  1.43333357e+00  2.31832166e-01  1.20150141e+00\n",
      " -4.67473593e+00 -2.79234183e-03  2.40300281e-02]\n"
     ]
    }
   ],
   "source": [
    "import numpy.linalg as mat\n",
    "factor1=mat.inv(XTrX+kI)\n",
    "factor2=np.dot(np.transpose(X),y)\n",
    "b_ridge=np.dot(factor1,factor2)\n",
    "print('Ridge Estimators')\n",
    "print(b_ridge)"
   ]
  },
  {
   "cell_type": "markdown",
   "id": "4ba3f63c",
   "metadata": {},
   "source": [
    "# Assessing ridge estimation using Mean Square Error"
   ]
  },
  {
   "cell_type": "code",
   "execution_count": 8,
   "id": "c8bbab71",
   "metadata": {},
   "outputs": [
    {
     "name": "stdout",
     "output_type": "stream",
     "text": [
      "Ridge Predicted values [17.06297814 17.62783539 17.40176836 18.0532386  16.35095188 17.32917708\n",
      " 14.98733124 15.76642788 14.92563074 13.54252636 14.32996839 14.06092631\n",
      " 13.78775278 14.40243265 16.2595175  16.71852924 15.8116013  15.47737805\n",
      " 16.47975488 15.3742912  16.3777915  13.91564594 16.15832603 14.57419188\n",
      " 15.18743145 14.15776218 14.07485583 12.87402697 15.22878276 15.03432322\n",
      " 14.22312134 13.7134701 ]\n"
     ]
    }
   ],
   "source": [
    "y_ridge=np.dot(X,b_ridge)\n",
    "print(\"Ridge Predicted values\",y_ridge)"
   ]
  },
  {
   "cell_type": "code",
   "execution_count": 9,
   "id": "5fcad26d",
   "metadata": {},
   "outputs": [
    {
     "name": "stdout",
     "output_type": "stream",
     "text": [
      "Empirical Ridge MSE 1.0819152354802257\n"
     ]
    }
   ],
   "source": [
    "mse=sum((y-y_ridge)*(y-y_ridge))/n\n",
    "print(\"Empirical Ridge MSE\",mse)"
   ]
  },
  {
   "cell_type": "markdown",
   "id": "26195d9a",
   "metadata": {},
   "source": [
    "# Part 2 :  Creating Ridge Trace"
   ]
  },
  {
   "cell_type": "code",
   "execution_count": 10,
   "id": "46dabe50",
   "metadata": {},
   "outputs": [],
   "source": [
    "X=df.iloc[:,1:] # seperated the regressor columns\n",
    "y=df.iloc[:,0] # slicing of response column"
   ]
  },
  {
   "cell_type": "markdown",
   "id": "08c5dec2",
   "metadata": {},
   "source": [
    "# Creating 25 k-values in logarithmic scaling"
   ]
  },
  {
   "cell_type": "code",
   "execution_count": 11,
   "id": "aeedf7f8",
   "metadata": {},
   "outputs": [
    {
     "data": {
      "text/plain": [
       "array([  0.1       ,   0.13335214,   0.17782794,   0.23713737,\n",
       "         0.31622777,   0.4216965 ,   0.56234133,   0.74989421,\n",
       "         1.        ,   1.33352143,   1.77827941,   2.37137371,\n",
       "         3.16227766,   4.21696503,   5.62341325,   7.49894209,\n",
       "        10.        ,  13.33521432,  17.7827941 ,  23.71373706,\n",
       "        31.6227766 ,  42.16965034,  56.23413252,  74.98942093,\n",
       "       100.        ])"
      ]
     },
     "execution_count": 11,
     "metadata": {},
     "output_type": "execute_result"
    }
   ],
   "source": [
    "import numpy as np\n",
    "n_k=25\n",
    "ks=np.logspace(0,3,n_k)/10\n",
    "ks"
   ]
  },
  {
   "cell_type": "markdown",
   "id": "04108ab2",
   "metadata": {},
   "source": [
    "# For obtaining ridge coefficient for different values of k"
   ]
  },
  {
   "cell_type": "code",
   "execution_count": 12,
   "id": "5547271b",
   "metadata": {},
   "outputs": [
    {
     "data": {
      "text/plain": [
       "[array([-0.94699432,  4.32603137,  0.00568929, -0.58951834,  1.00944302,\n",
       "         0.07456964,  0.93487338, -2.41051445,  0.06561241,  0.01869747]),\n",
       " array([-9.32112082e-01,  3.76224540e+00,  4.78331498e-03, -4.34114326e-01,\n",
       "         8.39144015e-01,  1.03935708e-03,  8.38104658e-01, -1.93321357e+00,\n",
       "         6.83460467e-02,  1.67620932e-02]),\n",
       " array([-0.91203068,  3.20417434,  0.00385248, -0.29820897,  0.69395053,\n",
       "        -0.05745587,  0.7514064 , -1.53193359,  0.06885697,  0.01502813]),\n",
       " array([-0.88746276,  2.67383739,  0.00293443, -0.18466767,  0.57586738,\n",
       "        -0.09925481,  0.67512218, -1.20051937,  0.06770407,  0.01350244]),\n",
       " array([-8.59168463e-01,  2.18872083e+00,  2.06394596e-03, -9.33284014e-02,\n",
       "         4.83603554e-01, -1.24908534e-01,  6.08512088e-01, -9.31130948e-01,\n",
       "         6.54842283e-02,  1.21702418e-02]),\n",
       " array([-8.27732325e-01,  1.76019179e+00,  1.26779630e-03, -2.18283779e-02,\n",
       "         4.13624534e-01, -1.36438216e-01,  5.50062750e-01, -7.15309477e-01,\n",
       "         6.27404420e-02,  1.10012550e-02]),\n",
       " array([-7.93425995e-01,  1.39329658e+00,  5.62010034e-04,  3.33271877e-02,\n",
       "         3.61399537e-01, -1.36486007e-01,  4.97885544e-01, -5.44694031e-01,\n",
       "         5.99015412e-02,  9.95771088e-03]),\n",
       " array([-7.56196029e-01,  1.08767039e+00, -4.82332390e-05,  7.58409251e-02,\n",
       "         3.22420550e-01, -1.27681799e-01,  4.50102349e-01, -4.11472766e-01,\n",
       "         5.72594325e-02,  9.00204698e-03]),\n",
       " array([-7.15768218e-01,  8.39045884e-01, -5.66651839e-04,  1.09021386e-01,\n",
       "         2.92817227e-01, -1.12342729e-01,  4.05159957e-01, -3.08638127e-01,\n",
       "         5.49771443e-02,  8.10319913e-03]),\n",
       " array([-0.67182678,  0.64085305, -0.00100294,  0.13549727,  0.26959962,\n",
       "        -0.09244769,  0.36204731, -0.23009786,  0.05311537,  0.00724095]),\n",
       " array([-0.62421438,  0.48556954, -0.0013698 ,  0.15715605,  0.25065059,\n",
       "        -0.06974838,  0.32039897, -0.1706848 ,  0.05166667,  0.00640798]),\n",
       " array([-0.57310149,  0.36568241, -0.00168052,  0.17521066,  0.2345865 ,\n",
       "        -0.04588043,  0.28046693, -0.12610453,  0.05059087,  0.00560934]),\n",
       " array([-0.51908556,  0.27427148, -0.00194718,  0.19032671,  0.22056654,\n",
       "        -0.02238866,  0.24295521, -0.09285386,  0.04984866,  0.0048591 ]),\n",
       " array([-0.46319903,  0.20529737, -0.00217964,  0.20276966,  0.20809755,\n",
       "        -0.00065129,  0.20874884, -0.06813169,  0.04943065,  0.00417498]),\n",
       " array([-0.40682555,  0.1536902 , -0.00238514,  0.21254667,  0.19686376,\n",
       "         0.01824971,  0.17861405, -0.04975081,  0.04937758,  0.00357228]),\n",
       " array([-0.35154057,  0.11531906, -0.00256843,  0.21952641,  0.18660192,\n",
       "         0.03363602,  0.1529659 , -0.03604976,  0.04978663,  0.00305932]),\n",
       " array([-0.29890688,  0.08689867, -0.00273245,  0.22352919,  0.17703191,\n",
       "         0.04526   ,  0.13177191, -0.02580211,  0.05080057,  0.00263544]),\n",
       " array([-0.25026732,  0.06586976, -0.00287931,  0.22438996,  0.16784011,\n",
       "         0.05324062,  0.11459949, -0.01812421,  0.05258036,  0.00229199]),\n",
       " array([-0.20658381,  0.05027503, -0.00301139,  0.22200414,  0.15870198,\n",
       "         0.05794303,  0.10075895, -0.01238735,  0.05526623,  0.00201518]),\n",
       " array([-0.16836117,  0.03864305, -0.00313226,  0.21636728,  0.14932595,\n",
       "         0.05985303,  0.08947293, -0.00814175,  0.05893383,  0.00178946]),\n",
       " array([-0.13566633,  0.02988586, -0.00324745,  0.20761391,  0.13950196,\n",
       "         0.0594847 ,  0.08001725, -0.00505697,  0.06355276,  0.00160035]),\n",
       " array([-0.10822109,  0.02321245, -0.00336486,  0.19605058,  0.12914084,\n",
       "         0.05733273,  0.07180811, -0.00287974,  0.06895484,  0.00143616]),\n",
       " array([-0.085528  ,  0.01805767, -0.00349481,  0.18216882,  0.11829322,\n",
       "         0.05385794,  0.06443527, -0.00140666,  0.07482129,  0.00128871]),\n",
       " array([-0.06698992,  0.0140246 , -0.00364986,  0.16662114,  0.1071393 ,\n",
       "         0.04948609,  0.05765321, -0.00046848,  0.08069713,  0.00115306]),\n",
       " array([-5.19992421e-02,  1.08382254e-02, -3.84409229e-03,  1.50153248e-01,\n",
       "         9.59484758e-02,  4.46033102e-02,  5.13451656e-02,  7.75504189e-05,\n",
       "         8.60363071e-02,  1.02690331e-03])]"
      ]
     },
     "execution_count": 12,
     "metadata": {},
     "output_type": "execute_result"
    }
   ],
   "source": [
    "from sklearn import linear_model\n",
    "ridge_b=[]\n",
    "for k in ks:\n",
    "    model=linear_model.Ridge(alpha=k,fit_intercept=True)\n",
    "    model.fit(X,y)\n",
    "    ridge_b.append(model.coef_)\n",
    "ridge_b"
   ]
  },
  {
   "cell_type": "markdown",
   "id": "70913bdd",
   "metadata": {},
   "source": [
    "# Creating a ridge trace"
   ]
  },
  {
   "cell_type": "code",
   "execution_count": 13,
   "id": "b868c033",
   "metadata": {},
   "outputs": [
    {
     "data": {
      "text/plain": [
       "(25, 10)"
      ]
     },
     "execution_count": 13,
     "metadata": {},
     "output_type": "execute_result"
    }
   ],
   "source": [
    "rdg_arr=np.array(ridge_b) # list is converted into a 2-d array\n",
    "rdg_arr=rdg_arr.reshape((n_k,10))\n",
    "rdg_arr.shape"
   ]
  },
  {
   "cell_type": "code",
   "execution_count": 14,
   "id": "973155bc",
   "metadata": {},
   "outputs": [
    {
     "data": {
      "image/png": "[encoded data removed]",
      "text/plain": [
       "<Figure size 640x480 with 1 Axes>"
      ]
     },
     "metadata": {},
     "output_type": "display_data"
    }
   ],
   "source": [
    "import matplotlib.pyplot as plt\n",
    "plt.plot(ks,rdg_arr)\n",
    "plt.show()"
   ]
  },
  {
   "cell_type": "markdown",
   "id": "93d4ec85",
   "metadata": {},
   "source": [
    "# Recommend a value close to k=4"
   ]
  },
  {
   "cell_type": "code",
   "execution_count": 15,
   "id": "42ae6abe",
   "metadata": {},
   "outputs": [
    {
     "data": {
      "text/html": [
       "<style>#sk-container-id-1 {color: black;}#sk-container-id-1 pre{padding: 0;}#sk-container-id-1 div.sk-toggleable {background-color: white;}#sk-container-id-1 label.sk-toggleable__label {cursor: pointer;display: block;width: 100%;margin-bottom: 0;padding: 0.3em;box-sizing: border-box;text-align: center;}#sk-container-id-1 label.sk-toggleable__label-arrow:before {content: \"▸\";float: left;margin-right: 0.25em;color: #696969;}#sk-container-id-1 label.sk-toggleable__label-arrow:hover:before {color: black;}#sk-container-id-1 div.sk-estimator:hover label.sk-toggleable__label-arrow:before {color: black;}#sk-container-id-1 div.sk-toggleable__content {max-height: 0;max-width: 0;overflow: hidden;text-align: left;background-color: #f0f8ff;}#sk-container-id-1 div.sk-toggleable__content pre {margin: 0.2em;color: black;border-radius: 0.25em;background-color: #f0f8ff;}#sk-container-id-1 input.sk-toggleable__control:checked~div.sk-toggleable__content {max-height: 200px;max-width: 100%;overflow: auto;}#sk-container-id-1 input.sk-toggleable__control:checked~label.sk-toggleable__label-arrow:before {content: \"▾\";}#sk-container-id-1 div.sk-estimator input.sk-toggleable__control:checked~label.sk-toggleable__label {background-color: #d4ebff;}#sk-container-id-1 div.sk-label input.sk-toggleable__control:checked~label.sk-toggleable__label {background-color: #d4ebff;}#sk-container-id-1 input.sk-hidden--visually {border: 0;clip: rect(1px 1px 1px 1px);clip: rect(1px, 1px, 1px, 1px);height: 1px;margin: -1px;overflow: hidden;padding: 0;position: absolute;width: 1px;}#sk-container-id-1 div.sk-estimator {font-family: monospace;background-color: #f0f8ff;border: 1px dotted black;border-radius: 0.25em;box-sizing: border-box;margin-bottom: 0.5em;}#sk-container-id-1 div.sk-estimator:hover {background-color: #d4ebff;}#sk-container-id-1 div.sk-parallel-item::after {content: \"\";width: 100%;border-bottom: 1px solid gray;flex-grow: 1;}#sk-container-id-1 div.sk-label:hover label.sk-toggleable__label {background-color: #d4ebff;}#sk-container-id-1 div.sk-serial::before {content: \"\";position: absolute;border-left: 1px solid gray;box-sizing: border-box;top: 0;bottom: 0;left: 50%;z-index: 0;}#sk-container-id-1 div.sk-serial {display: flex;flex-direction: column;align-items: center;background-color: white;padding-right: 0.2em;padding-left: 0.2em;position: relative;}#sk-container-id-1 div.sk-item {position: relative;z-index: 1;}#sk-container-id-1 div.sk-parallel {display: flex;align-items: stretch;justify-content: center;background-color: white;position: relative;}#sk-container-id-1 div.sk-item::before, #sk-container-id-1 div.sk-parallel-item::before {content: \"\";position: absolute;border-left: 1px solid gray;box-sizing: border-box;top: 0;bottom: 0;left: 50%;z-index: -1;}#sk-container-id-1 div.sk-parallel-item {display: flex;flex-direction: column;z-index: 1;position: relative;background-color: white;}#sk-container-id-1 div.sk-parallel-item:first-child::after {align-self: flex-end;width: 50%;}#sk-container-id-1 div.sk-parallel-item:last-child::after {align-self: flex-start;width: 50%;}#sk-container-id-1 div.sk-parallel-item:only-child::after {width: 0;}#sk-container-id-1 div.sk-dashed-wrapped {border: 1px dashed gray;margin: 0 0.4em 0.5em 0.4em;box-sizing: border-box;padding-bottom: 0.4em;background-color: white;}#sk-container-id-1 div.sk-label label {font-family: monospace;font-weight: bold;display: inline-block;line-height: 1.2em;}#sk-container-id-1 div.sk-label-container {text-align: center;}#sk-container-id-1 div.sk-container {/* jupyter's `normalize.less` sets `[hidden] { display: none; }` but bootstrap.min.css set `[hidden] { display: none !important; }` so we also need the `!important` here to be able to override the default hidden behavior on the sphinx rendered scikit-learn.org. See: https://github.com/scikit-learn/scikit-learn/issues/21755 */display: inline-block !important;position: relative;}#sk-container-id-1 div.sk-text-repr-fallback {display: none;}</style><div id=\"sk-container-id-1\" class=\"sk-top-container\"><div class=\"sk-text-repr-fallback\"><pre>Ridge(alpha=4)</pre><b>In a Jupyter environment, please rerun this cell to show the HTML representation or trust the notebook. <br />On GitHub, the HTML representation is unable to render, please try loading this page with nbviewer.org.</b></div><div class=\"sk-container\" hidden><div class=\"sk-item\"><div class=\"sk-estimator sk-toggleable\"><input class=\"sk-toggleable__control sk-hidden--visually\" id=\"sk-estimator-id-1\" type=\"checkbox\" checked><label for=\"sk-estimator-id-1\" class=\"sk-toggleable__label sk-toggleable__label-arrow\">Ridge</label><div class=\"sk-toggleable__content\"><pre>Ridge(alpha=4)</pre></div></div></div></div></div>"
      ],
      "text/plain": [
       "Ridge(alpha=4)"
      ]
     },
     "execution_count": 15,
     "metadata": {},
     "output_type": "execute_result"
    }
   ],
   "source": [
    "model=linear_model.Ridge(alpha=4,fit_intercept=True)\n",
    "model.fit(X,y)"
   ]
  },
  {
   "cell_type": "code",
   "execution_count": 16,
   "id": "fa17178c",
   "metadata": {},
   "outputs": [],
   "source": [
    "y_trace=model.predict(X)"
   ]
  },
  {
   "cell_type": "code",
   "execution_count": 17,
   "id": "331c5d22",
   "metadata": {},
   "outputs": [
    {
     "name": "stdout",
     "output_type": "stream",
     "text": [
      "Empirical Ridge MSE 1.368818017588188\n"
     ]
    }
   ],
   "source": [
    "mse=sum((y-y_trace)*(y-y_trace))/n\n",
    "print(\"Empirical Ridge MSE\",mse)"
   ]
  },
  {
   "cell_type": "markdown",
   "id": "a04c59d8",
   "metadata": {},
   "source": [
    "# Formula gives a smaller mean square error than the Ridge parameter k=4"
   ]
  },
  {
   "cell_type": "code",
   "execution_count": null,
   "id": "ad8dd9f6",
   "metadata": {},
   "outputs": [],
   "source": []
  }
 ],
 "metadata": {
  "kernelspec": {
   "display_name": "Python 3 (ipykernel)",
   "language": "python",
   "name": "python3"
  },
  "language_info": {
   "codemirror_mode": {
    "name": "ipython",
    "version": 3
   },
   "file_extension": ".py",
   "mimetype": "text/x-python",
   "name": "python",
   "nbconvert_exporter": "python",
   "pygments_lexer": "ipython3",
   "version": "3.11.5"
  }
 },
 "nbformat": 4,
 "nbformat_minor": 5
}
