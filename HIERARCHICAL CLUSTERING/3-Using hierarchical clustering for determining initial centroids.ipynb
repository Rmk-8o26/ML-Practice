{
 "cells": [
  {
   "cell_type": "markdown",
   "metadata": {},
   "source": [
    "# Objective : Learning the use of hierarchical clustering to decide initial centroids"
   ]
  },
  {
   "cell_type": "markdown",
   "metadata": {},
   "source": [
    "# Identify the initial centroids for clustering TN election data"
   ]
  },
  {
   "cell_type": "markdown",
   "metadata": {},
   "source": [
    "# Step 1 :  Creating the data frame using TN election csv file"
   ]
  },
  {
   "cell_type": "code",
   "execution_count": 2,
   "metadata": {},
   "outputs": [
    {
     "data": {
      "text/html": [
       "<div>\n",
       "<style scoped>\n",
       "    .dataframe tbody tr th:only-of-type {\n",
       "        vertical-align: middle;\n",
       "    }\n",
       "\n",
       "    .dataframe tbody tr th {\n",
       "        vertical-align: top;\n",
       "    }\n",
       "\n",
       "    .dataframe thead th {\n",
       "        text-align: right;\n",
       "    }\n",
       "</style>\n",
       "<table border=\"1\" class=\"dataframe\">\n",
       "  <thead>\n",
       "    <tr style=\"text-align: right;\">\n",
       "      <th></th>\n",
       "      <th>Place</th>\n",
       "      <th>ADMK</th>\n",
       "      <th>DMK</th>\n",
       "      <th>PMK</th>\n",
       "      <th>DMDK</th>\n",
       "      <th>BJP</th>\n",
       "    </tr>\n",
       "  </thead>\n",
       "  <tbody>\n",
       "    <tr>\n",
       "      <td>0</td>\n",
       "      <td>Gummidpoondi</td>\n",
       "      <td>0.417</td>\n",
       "      <td>0.308</td>\n",
       "      <td>0.201</td>\n",
       "      <td>0.031</td>\n",
       "      <td>0.010</td>\n",
       "    </tr>\n",
       "    <tr>\n",
       "      <td>1</td>\n",
       "      <td>Ponneri</td>\n",
       "      <td>0.486</td>\n",
       "      <td>0.388</td>\n",
       "      <td>0.049</td>\n",
       "      <td>0.028</td>\n",
       "      <td>0.010</td>\n",
       "    </tr>\n",
       "    <tr>\n",
       "      <td>2</td>\n",
       "      <td>Tiruttani</td>\n",
       "      <td>0.418</td>\n",
       "      <td>0.314</td>\n",
       "      <td>0.133</td>\n",
       "      <td>0.070</td>\n",
       "      <td>0.025</td>\n",
       "    </tr>\n",
       "    <tr>\n",
       "      <td>3</td>\n",
       "      <td>Thiruvallur</td>\n",
       "      <td>0.365</td>\n",
       "      <td>0.390</td>\n",
       "      <td>0.155</td>\n",
       "      <td>0.034</td>\n",
       "      <td>0.009</td>\n",
       "    </tr>\n",
       "    <tr>\n",
       "      <td>4</td>\n",
       "      <td>Poonamalle</td>\n",
       "      <td>0.433</td>\n",
       "      <td>0.384</td>\n",
       "      <td>0.066</td>\n",
       "      <td>0.063</td>\n",
       "      <td>0.014</td>\n",
       "    </tr>\n",
       "    <tr>\n",
       "      <td>5</td>\n",
       "      <td>Avadi</td>\n",
       "      <td>0.399</td>\n",
       "      <td>0.394</td>\n",
       "      <td>0.046</td>\n",
       "      <td>0.084</td>\n",
       "      <td>0.027</td>\n",
       "    </tr>\n",
       "    <tr>\n",
       "      <td>6</td>\n",
       "      <td>Maduravoyal</td>\n",
       "      <td>0.401</td>\n",
       "      <td>0.367</td>\n",
       "      <td>0.070</td>\n",
       "      <td>0.079</td>\n",
       "      <td>0.018</td>\n",
       "    </tr>\n",
       "    <tr>\n",
       "      <td>7</td>\n",
       "      <td>Ambathur</td>\n",
       "      <td>0.411</td>\n",
       "      <td>0.335</td>\n",
       "      <td>0.072</td>\n",
       "      <td>0.072</td>\n",
       "      <td>0.042</td>\n",
       "    </tr>\n",
       "    <tr>\n",
       "      <td>8</td>\n",
       "      <td>Madhavaram</td>\n",
       "      <td>0.398</td>\n",
       "      <td>0.454</td>\n",
       "      <td>0.053</td>\n",
       "      <td>0.035</td>\n",
       "      <td>0.019</td>\n",
       "    </tr>\n",
       "    <tr>\n",
       "      <td>9</td>\n",
       "      <td>Tiruvotriyur</td>\n",
       "      <td>0.407</td>\n",
       "      <td>0.433</td>\n",
       "      <td>0.021</td>\n",
       "      <td>0.071</td>\n",
       "      <td>0.017</td>\n",
       "    </tr>\n",
       "    <tr>\n",
       "      <td>10</td>\n",
       "      <td>RKNagar</td>\n",
       "      <td>0.559</td>\n",
       "      <td>0.331</td>\n",
       "      <td>0.024</td>\n",
       "      <td>0.017</td>\n",
       "      <td>0.017</td>\n",
       "    </tr>\n",
       "  </tbody>\n",
       "</table>\n",
       "</div>"
      ],
      "text/plain": [
       "           Place   ADMK    DMK    PMK   DMDK    BJP\n",
       "0   Gummidpoondi  0.417  0.308  0.201  0.031  0.010\n",
       "1        Ponneri  0.486  0.388  0.049  0.028  0.010\n",
       "2      Tiruttani  0.418  0.314  0.133  0.070  0.025\n",
       "3    Thiruvallur  0.365  0.390  0.155  0.034  0.009\n",
       "4     Poonamalle  0.433  0.384  0.066  0.063  0.014\n",
       "5          Avadi  0.399  0.394  0.046  0.084  0.027\n",
       "6    Maduravoyal  0.401  0.367  0.070  0.079  0.018\n",
       "7       Ambathur  0.411  0.335  0.072  0.072  0.042\n",
       "8     Madhavaram  0.398  0.454  0.053  0.035  0.019\n",
       "9   Tiruvotriyur  0.407  0.433  0.021  0.071  0.017\n",
       "10       RKNagar  0.559  0.331  0.024  0.017  0.017"
      ]
     },
     "execution_count": 2,
     "metadata": {},
     "output_type": "execute_result"
    }
   ],
   "source": [
    "import pandas as pd\n",
    "df=pd.read_csv(\"C:/Users/sampa/OneDrive/Desktop/tnelections.csv\")\n",
    "df"
   ]
  },
  {
   "cell_type": "markdown",
   "metadata": {},
   "source": [
    "# Step 2 : Slicing of numerical columns"
   ]
  },
  {
   "cell_type": "code",
   "execution_count": 4,
   "metadata": {},
   "outputs": [],
   "source": [
    "X=df.iloc[:,1:6]"
   ]
  },
  {
   "cell_type": "markdown",
   "metadata": {},
   "source": [
    "# Step 3 : Identifying the number of clusters"
   ]
  },
  {
   "cell_type": "code",
   "execution_count": 6,
   "metadata": {},
   "outputs": [],
   "source": [
    "import scipy.cluster.hierarchy as shc\n",
    "import matplotlib.pyplot as plt"
   ]
  },
  {
   "cell_type": "code",
   "execution_count": 7,
   "metadata": {},
   "outputs": [
    {
     "data": {
      "image/png": "[encoded data removed]",
      "text/plain": [
       "<Figure size 576x576 with 1 Axes>"
      ]
     },
     "metadata": {
      "needs_background": "light"
     },
     "output_type": "display_data"
    }
   ],
   "source": [
    "plt.figure(figsize=(8,8))\n",
    "dend=shc.dendrogram(shc.linkage(X,method='ward',metric='euclidean'))"
   ]
  },
  {
   "cell_type": "markdown",
   "metadata": {},
   "source": [
    "# The inspection of dendrogram leads us to take k=3"
   ]
  },
  {
   "cell_type": "markdown",
   "metadata": {},
   "source": [
    "# Listing the members of clusters"
   ]
  },
  {
   "cell_type": "code",
   "execution_count": 13,
   "metadata": {},
   "outputs": [],
   "source": [
    "from sklearn.cluster import AgglomerativeClustering\n",
    "clusters=AgglomerativeClustering(n_clusters=3,linkage='ward',affinity='euclidean').fit(X)"
   ]
  },
  {
   "cell_type": "code",
   "execution_count": 29,
   "metadata": {},
   "outputs": [
    {
     "name": "stdout",
     "output_type": "stream",
     "text": [
      "[1 2 1 1 0 0 0 0 0 0 2]\n"
     ]
    }
   ],
   "source": [
    "labels=clusters.labels_\n",
    "print(labels)"
   ]
  },
  {
   "cell_type": "markdown",
   "metadata": {},
   "source": [
    "# Computing centroids"
   ]
  },
  {
   "cell_type": "code",
   "execution_count": 30,
   "metadata": {},
   "outputs": [],
   "source": [
    "# storing the labels of the three cluster\n",
    "import numpy as np\n",
    "cl0=np.where(labels==0)\n",
    "cl1=np.where(labels==1)\n",
    "cl2=np.where(labels==2)"
   ]
  },
  {
   "cell_type": "code",
   "execution_count": 40,
   "metadata": {},
   "outputs": [],
   "source": [
    "# Slicing the rows corresponding to the three clusters\n",
    "X1=X.iloc[list(cl0[0]),]\n",
    "X2=X.iloc[list(cl1[0]),]\n",
    "X3=X.iloc[list(cl2[0]),]"
   ]
  },
  {
   "cell_type": "code",
   "execution_count": 46,
   "metadata": {},
   "outputs": [],
   "source": [
    "# Computing the centroids\n",
    "m1=np.mean(X1)\n",
    "m2=np.mean(X2)\n",
    "m3=np.mean(X3)"
   ]
  },
  {
   "cell_type": "code",
   "execution_count": 49,
   "metadata": {},
   "outputs": [
    {
     "name": "stdout",
     "output_type": "stream",
     "text": [
      "The 3 centroids are  ADMK    0.408167\n",
      "DMK     0.394500\n",
      "PMK     0.054667\n",
      "DMDK    0.067333\n",
      "BJP     0.022833\n",
      "dtype: float64 ADMK    0.400000\n",
      "DMK     0.337333\n",
      "PMK     0.163000\n",
      "DMDK    0.045000\n",
      "BJP     0.014667\n",
      "dtype: float64 ADMK    0.5225\n",
      "DMK     0.3595\n",
      "PMK     0.0365\n",
      "DMDK    0.0225\n",
      "BJP     0.0135\n",
      "dtype: float64\n"
     ]
    }
   ],
   "source": [
    "print(\"The 3 centroids are \",m1,m2,m3)"
   ]
  },
  {
   "cell_type": "code",
   "execution_count": null,
   "metadata": {},
   "outputs": [],
   "source": []
  }
 ],
 "metadata": {
  "kernelspec": {
   "display_name": "Python 3 (ipykernel)",
   "language": "python",
   "name": "python3"
  },
  "language_info": {
   "codemirror_mode": {
    "name": "ipython",
    "version": 3
   },
   "file_extension": ".py",
   "mimetype": "text/x-python",
   "name": "python",
   "nbconvert_exporter": "python",
   "pygments_lexer": "ipython3",
   "version": "3.9.12"
  }
 },
 "nbformat": 4,
 "nbformat_minor": 2
}
