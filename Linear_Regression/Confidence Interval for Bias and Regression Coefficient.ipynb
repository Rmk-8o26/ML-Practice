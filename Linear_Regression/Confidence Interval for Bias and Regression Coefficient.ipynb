{
 "cells": [
  {
   "cell_type": "markdown",
   "metadata": {},
   "source": [
    "# Exercise 3 - Confidence Interval for Bias and Regression Coefficient"
   ]
  },
  {
   "cell_type": "markdown",
   "metadata": {},
   "source": [
    "# Objective : Learning the construction of Confidence Intervals for $\\beta_0$ and $\\beta_1$"
   ]
  },
  {
   "cell_type": "markdown",
   "metadata": {},
   "source": [
    "# Constuct the confidence intervals with confidence coefficient 0.97 for the bias and regression coefficient using the TV Sales Data (Amount Spend on TV advertisement and the level of Sales achieved)"
   ]
  },
  {
   "cell_type": "markdown",
   "metadata": {},
   "source": [
    "# Step 1 : Importing the data and slicing response and regressor columns"
   ]
  },
  {
   "cell_type": "code",
   "execution_count": 5,
   "metadata": {},
   "outputs": [],
   "source": [
    "import pandas as pd\n",
    "df=pd.read_csv(\"sales.csv\")\n",
    "X=df[[\"TV\"]].values\n",
    "y=df[[\"SALES\"]].values"
   ]
  },
  {
   "cell_type": "markdown",
   "metadata": {},
   "source": [
    "# Step 2 : Fitting the model and obtaining the estimates of bias and regression coefficient"
   ]
  },
  {
   "cell_type": "code",
   "execution_count": 28,
   "metadata": {},
   "outputs": [
    {
     "data": {
      "text/plain": [
       "0.055289582581731216"
      ]
     },
     "execution_count": 28,
     "metadata": {},
     "output_type": "execute_result"
    }
   ],
   "source": [
    "from sklearn.linear_model import LinearRegression\n",
    "model=LinearRegression()\n",
    "model.fit(X,y)\n",
    "b0_hat=model.intercept_[0]\n",
    "b1_hat=model.coef_[0,0]"
   ]
  },
  {
   "cell_type": "markdown",
   "metadata": {},
   "source": [
    "# Step 3 :  Estimating the error variance"
   ]
  },
  {
   "cell_type": "code",
   "execution_count": 7,
   "metadata": {},
   "outputs": [],
   "source": [
    "est_var=sum((model.predict(X)-y)*(model.predict(X)-y))/(len(X)-2)\n",
    "est_var=est_var[0]"
   ]
  },
  {
   "cell_type": "markdown",
   "metadata": {},
   "source": [
    "# Step 4 : Obtaining the quantile (t-table) values"
   ]
  },
  {
   "cell_type": "code",
   "execution_count": 8,
   "metadata": {},
   "outputs": [],
   "source": [
    "from scipy.stats import t"
   ]
  },
  {
   "cell_type": "code",
   "execution_count": 9,
   "metadata": {},
   "outputs": [],
   "source": [
    "# t.ppf(0.90,13) This call gives the t-table value where the left tail area is 0.90 and the right tail area\n",
    "# is 0.10 # this is compable with qt in R"
   ]
  },
  {
   "cell_type": "code",
   "execution_count": 10,
   "metadata": {},
   "outputs": [
    {
     "data": {
      "text/plain": [
       "2.3132309601308547"
      ]
     },
     "execution_count": 10,
     "metadata": {},
     "output_type": "execute_result"
    }
   ],
   "source": [
    "conf_coef=0.97\n",
    "alpha=(1-conf_coef)\n",
    "t_value=t.ppf((1-(alpha/2)),len(X)-2)\n",
    "t_value"
   ]
  },
  {
   "cell_type": "markdown",
   "metadata": {},
   "source": [
    "# Step 5 : Computing Standard Errors"
   ]
  },
  {
   "cell_type": "code",
   "execution_count": 18,
   "metadata": {},
   "outputs": [
    {
     "name": "stdout",
     "output_type": "stream",
     "text": [
      "183723.0944\n"
     ]
    }
   ],
   "source": [
    "x_bar=np.mean(X)\n",
    "Sxx=sum((X-x_bar)*(X-x_bar))[0]\n",
    "print(Sxx)"
   ]
  },
  {
   "cell_type": "code",
   "execution_count": 22,
   "metadata": {},
   "outputs": [
    {
     "name": "stdout",
     "output_type": "stream",
     "text": [
      "0.6917389463795325 0.004543191124991639\n"
     ]
    }
   ],
   "source": [
    "import numpy as np\n",
    "se_b1=np.sqrt(est_var/Sxx)\n",
    "fact=(1/len(X))+(x_bar*x_bar/Sxx)\n",
    "se_b0=np.sqrt(est_var*fact)\n",
    "print(se_b0,se_b1)"
   ]
  },
  {
   "cell_type": "markdown",
   "metadata": {},
   "source": [
    "# Step 6 : Computing Confidence limits"
   ]
  },
  {
   "cell_type": "code",
   "execution_count": 24,
   "metadata": {},
   "outputs": [],
   "source": [
    "l_b0=b0_hat-t_value*se_b0\n",
    "u_b0=b0_hat+t_value*se_b0\n",
    "l_b1=b1_hat-t_value*se_b1\n",
    "u_b1=b1_hat+t_value*se_b1"
   ]
  },
  {
   "cell_type": "markdown",
   "metadata": {},
   "source": [
    "# Step 7 : Printing the confidence intervals "
   ]
  },
  {
   "cell_type": "code",
   "execution_count": 27,
   "metadata": {},
   "outputs": [
    {
     "name": "stdout",
     "output_type": "stream",
     "text": [
      "Confidence interval for b_0 ( 5.838649297482166 , 9.03895319166903 )\n",
      "Confidence interval for b_1 ( 0.044780132213608825 , 0.0657990329498536 )\n"
     ]
    }
   ],
   "source": [
    "print(\"Confidence interval for b_0\", \"(\",l_b0,\",\",u_b0,\")\")\n",
    "print(\"Confidence interval for b_1\", \"(\",l_b1,\",\",u_b1,\")\")"
   ]
  },
  {
   "cell_type": "markdown",
   "metadata": {},
   "source": [
    "# Step 8 : Confidence interval with confidence coefficient 99%"
   ]
  },
  {
   "cell_type": "code",
   "execution_count": 29,
   "metadata": {},
   "outputs": [
    {
     "name": "stdout",
     "output_type": "stream",
     "text": [
      "Confidence interval for b_0 ( 5.496857816552588 , 9.380744672598608 )\n",
      "Confidence interval for b_1 ( 0.04253532001836627 , 0.06804384514509616 )\n"
     ]
    }
   ],
   "source": [
    "conf_coef=0.99\n",
    "alpha=(1-conf_coef)\n",
    "t_value=t.ppf((1-(alpha/2)),len(X)-2)\n",
    "l_b0=b0_hat-t_value*se_b0\n",
    "u_b0=b0_hat+t_value*se_b0\n",
    "l_b1=b1_hat-t_value*se_b1\n",
    "u_b1=b1_hat+t_value*se_b1\n",
    "print(\"Confidence interval for b_0\", \"(\",l_b0,\",\",u_b0,\")\")\n",
    "print(\"Confidence interval for b_1\", \"(\",l_b1,\",\",u_b1,\")\")"
   ]
  },
  {
   "cell_type": "markdown",
   "metadata": {},
   "source": [
    "# Conclusion \n",
    "\n",
    "# The confidence intervals with confidence coefficient 0.97 for the bias and regression coefficient is \n",
    "\n",
    "## Confidence interval for $\\beta_0$ ( 5.496857816552588 , 9.380744672598608 )\n",
    "## Confidence interval for $\\beta_1$ ( 0.04253532001836627 , 0.06804384514509616 )"
   ]
  }
 ],
 "metadata": {
  "kernelspec": {
   "display_name": "Python 3 (ipykernel)",
   "language": "python",
   "name": "python3"
  },
  "language_info": {
   "codemirror_mode": {
    "name": "ipython",
    "version": 3
   },
   "file_extension": ".py",
   "mimetype": "text/x-python",
   "name": "python",
   "nbconvert_exporter": "python",
   "pygments_lexer": "ipython3",
   "version": "3.11.5"
  }
 },
 "nbformat": 4,
 "nbformat_minor": 2
}
