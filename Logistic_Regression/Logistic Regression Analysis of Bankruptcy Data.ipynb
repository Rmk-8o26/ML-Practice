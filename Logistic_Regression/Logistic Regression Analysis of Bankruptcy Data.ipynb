{
 "cells": [
  {
   "cell_type": "markdown",
   "metadata": {},
   "source": [
    "## Problem : Perform complete logistic regression analysis of Bankruptcy Data"
   ]
  },
  {
   "cell_type": "markdown",
   "metadata": {},
   "source": [
    "# Step 1 : Data Preparation"
   ]
  },
  {
   "cell_type": "code",
   "execution_count": 1,
   "metadata": {},
   "outputs": [],
   "source": [
    "import pandas as pd\n",
    "df=pd.read_csv('bankruptcy.csv')\n",
    "X=df.iloc[:,:4]\n",
    "y=df.iloc[:,4]"
   ]
  },
  {
   "cell_type": "markdown",
   "metadata": {},
   "source": [
    "# Step 2: Fitting the Logistic Regression Model"
   ]
  },
  {
   "cell_type": "code",
   "execution_count": 2,
   "metadata": {},
   "outputs": [
    {
     "name": "stdout",
     "output_type": "stream",
     "text": [
      "Optimization terminated successfully.\n",
      "         Current function value: 0.298296\n",
      "         Iterations 8\n"
     ]
    },
    {
     "data": {
      "text/html": [
       "<table class=\"simpletable\">\n",
       "<caption>Logit Regression Results</caption>\n",
       "<tr>\n",
       "  <th>Dep. Variable:</th>          <td>cl</td>        <th>  No. Observations:  </th>  <td>    46</td>  \n",
       "</tr>\n",
       "<tr>\n",
       "  <th>Model:</th>                 <td>Logit</td>      <th>  Df Residuals:      </th>  <td>    41</td>  \n",
       "</tr>\n",
       "<tr>\n",
       "  <th>Method:</th>                 <td>MLE</td>       <th>  Df Model:          </th>  <td>     4</td>  \n",
       "</tr>\n",
       "<tr>\n",
       "  <th>Date:</th>            <td>Sun, 22 Oct 2023</td> <th>  Pseudo R-squ.:     </th>  <td>0.5673</td>  \n",
       "</tr>\n",
       "<tr>\n",
       "  <th>Time:</th>                <td>20:33:34</td>     <th>  Log-Likelihood:    </th> <td> -13.722</td> \n",
       "</tr>\n",
       "<tr>\n",
       "  <th>converged:</th>             <td>True</td>       <th>  LL-Null:           </th> <td> -31.711</td> \n",
       "</tr>\n",
       "<tr>\n",
       "  <th>Covariance Type:</th>     <td>nonrobust</td>    <th>  LLR p-value:       </th> <td>2.924e-07</td>\n",
       "</tr>\n",
       "</table>\n",
       "<table class=\"simpletable\">\n",
       "<tr>\n",
       "    <td></td>       <th>coef</th>     <th>std err</th>      <th>z</th>      <th>P>|z|</th>  <th>[0.025</th>    <th>0.975]</th>  \n",
       "</tr>\n",
       "<tr>\n",
       "  <th>const</th> <td>   -5.3195</td> <td>    2.366</td> <td>   -2.248</td> <td> 0.025</td> <td>   -9.958</td> <td>   -0.681</td>\n",
       "</tr>\n",
       "<tr>\n",
       "  <th>X1</th>    <td>    7.1378</td> <td>    6.002</td> <td>    1.189</td> <td> 0.234</td> <td>   -4.625</td> <td>   18.901</td>\n",
       "</tr>\n",
       "<tr>\n",
       "  <th>X2</th>    <td>   -3.7033</td> <td>   13.670</td> <td>   -0.271</td> <td> 0.786</td> <td>  -30.497</td> <td>   23.090</td>\n",
       "</tr>\n",
       "<tr>\n",
       "  <th>X3</th>    <td>    3.4148</td> <td>    1.204</td> <td>    2.837</td> <td> 0.005</td> <td>    1.056</td> <td>    5.774</td>\n",
       "</tr>\n",
       "<tr>\n",
       "  <th>X4</th>    <td>   -2.9684</td> <td>    3.065</td> <td>   -0.968</td> <td> 0.333</td> <td>   -8.976</td> <td>    3.040</td>\n",
       "</tr>\n",
       "</table>"
      ],
      "text/latex": [
       "\\begin{center}\n",
       "\\begin{tabular}{lclc}\n",
       "\\toprule\n",
       "\\textbf{Dep. Variable:}   &        cl        & \\textbf{  No. Observations:  } &       46    \\\\\n",
       "\\textbf{Model:}           &      Logit       & \\textbf{  Df Residuals:      } &       41    \\\\\n",
       "\\textbf{Method:}          &       MLE        & \\textbf{  Df Model:          } &        4    \\\\\n",
       "\\textbf{Date:}            & Sun, 22 Oct 2023 & \\textbf{  Pseudo R-squ.:     } &   0.5673    \\\\\n",
       "\\textbf{Time:}            &     20:33:34     & \\textbf{  Log-Likelihood:    } &   -13.722   \\\\\n",
       "\\textbf{converged:}       &       True       & \\textbf{  LL-Null:           } &   -31.711   \\\\\n",
       "\\textbf{Covariance Type:} &    nonrobust     & \\textbf{  LLR p-value:       } & 2.924e-07   \\\\\n",
       "\\bottomrule\n",
       "\\end{tabular}\n",
       "\\begin{tabular}{lcccccc}\n",
       "               & \\textbf{coef} & \\textbf{std err} & \\textbf{z} & \\textbf{P$> |$z$|$} & \\textbf{[0.025} & \\textbf{0.975]}  \\\\\n",
       "\\midrule\n",
       "\\textbf{const} &      -5.3195  &        2.366     &    -2.248  &         0.025        &       -9.958    &       -0.681     \\\\\n",
       "\\textbf{X1}    &       7.1378  &        6.002     &     1.189  &         0.234        &       -4.625    &       18.901     \\\\\n",
       "\\textbf{X2}    &      -3.7033  &       13.670     &    -0.271  &         0.786        &      -30.497    &       23.090     \\\\\n",
       "\\textbf{X3}    &       3.4148  &        1.204     &     2.837  &         0.005        &        1.056    &        5.774     \\\\\n",
       "\\textbf{X4}    &      -2.9684  &        3.065     &    -0.968  &         0.333        &       -8.976    &        3.040     \\\\\n",
       "\\bottomrule\n",
       "\\end{tabular}\n",
       "%\\caption{Logit Regression Results}\n",
       "\\end{center}"
      ],
      "text/plain": [
       "<class 'statsmodels.iolib.summary.Summary'>\n",
       "\"\"\"\n",
       "                           Logit Regression Results                           \n",
       "==============================================================================\n",
       "Dep. Variable:                     cl   No. Observations:                   46\n",
       "Model:                          Logit   Df Residuals:                       41\n",
       "Method:                           MLE   Df Model:                            4\n",
       "Date:                Sun, 22 Oct 2023   Pseudo R-squ.:                  0.5673\n",
       "Time:                        20:33:34   Log-Likelihood:                -13.722\n",
       "converged:                       True   LL-Null:                       -31.711\n",
       "Covariance Type:            nonrobust   LLR p-value:                 2.924e-07\n",
       "==============================================================================\n",
       "                 coef    std err          z      P>|z|      [0.025      0.975]\n",
       "------------------------------------------------------------------------------\n",
       "const         -5.3195      2.366     -2.248      0.025      -9.958      -0.681\n",
       "X1             7.1378      6.002      1.189      0.234      -4.625      18.901\n",
       "X2            -3.7033     13.670     -0.271      0.786     -30.497      23.090\n",
       "X3             3.4148      1.204      2.837      0.005       1.056       5.774\n",
       "X4            -2.9684      3.065     -0.968      0.333      -8.976       3.040\n",
       "==============================================================================\n",
       "\"\"\""
      ]
     },
     "execution_count": 2,
     "metadata": {},
     "output_type": "execute_result"
    }
   ],
   "source": [
    "import statsmodels.api as sm\n",
    "x=sm.add_constant(X)\n",
    "model=sm.Logit(y,x).fit()\n",
    "model.summary()"
   ]
  },
  {
   "cell_type": "markdown",
   "metadata": {},
   "source": [
    "# Results: <br>\n",
    "## The fitted model is $y=\\frac{1}{1+e^{5.3195-7.1378x_1+3.1378x_2-3.4148x_3+2.9684x_4}}$<br>\n",
    "## The estimated values are $\\hat\\beta_0=-5.3195,\\hat\\beta_1=,\\hat\\beta_2=,\\hat\\beta_3=,\\hat\\beta_4= $\n",
    "## The most significant regressor is   $x_3$\n",
    "## The most insignificant regressor is $x_2$"
   ]
  },
  {
   "cell_type": "markdown",
   "metadata": {},
   "source": [
    "# Odds Ratios"
   ]
  },
  {
   "cell_type": "code",
   "execution_count": 3,
   "metadata": {},
   "outputs": [
    {
     "name": "stdout",
     "output_type": "stream",
     "text": [
      "Estimated values are const   -5.319513\n",
      "X1       7.137804\n",
      "X2      -3.703330\n",
      "X3       3.414834\n",
      "X4      -2.968390\n",
      "dtype: float64\n"
     ]
    }
   ],
   "source": [
    "print('Estimated values are', model.params)"
   ]
  },
  {
   "cell_type": "code",
   "execution_count": 4,
   "metadata": {},
   "outputs": [
    {
     "name": "stdout",
     "output_type": "stream",
     "text": [
      "Odds Ratios are  const       0.004895\n",
      "X1       1258.661658\n",
      "X2          0.024641\n",
      "X3         30.411911\n",
      "X4          0.051386\n",
      "dtype: float64\n"
     ]
    }
   ],
   "source": [
    "import numpy as np\n",
    "print('Odds Ratios are ', np.exp(model.params))"
   ]
  },
  {
   "cell_type": "markdown",
   "metadata": {},
   "source": [
    "# Odd Ratio of the regressor $x_3$ is unusually large "
   ]
  },
  {
   "cell_type": "markdown",
   "metadata": {},
   "source": [
    "# Inline prediction"
   ]
  },
  {
   "cell_type": "code",
   "execution_count": 5,
   "metadata": {},
   "outputs": [],
   "source": [
    "y_pr=np.round(model.predict(x))\n"
   ]
  },
  {
   "cell_type": "markdown",
   "metadata": {},
   "source": [
    "## From the Pseudo R-Square we conclude that the model is a good model"
   ]
  },
  {
   "cell_type": "code",
   "execution_count": null,
   "metadata": {},
   "outputs": [],
   "source": []
  }
 ],
 "metadata": {
  "kernelspec": {
   "display_name": "Python 3 (ipykernel)",
   "language": "python",
   "name": "python3"
  },
  "language_info": {
   "codemirror_mode": {
    "name": "ipython",
    "version": 3
   },
   "file_extension": ".py",
   "mimetype": "text/x-python",
   "name": "python",
   "nbconvert_exporter": "python",
   "pygments_lexer": "ipython3",
   "version": "3.11.5"
  }
 },
 "nbformat": 4,
 "nbformat_minor": 2
}
