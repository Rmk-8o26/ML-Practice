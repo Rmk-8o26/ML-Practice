{
 "cells": [
  {
   "cell_type": "markdown",
   "metadata": {},
   "source": [
    "# Objective : Learning the implementation of k-nn and computing validity measures"
   ]
  },
  {
   "cell_type": "markdown",
   "metadata": {},
   "source": [
    "# Question : Implement k-nn for bankruptcy data with 8 neighbors and compute the some important validity measures"
   ]
  },
  {
   "cell_type": "markdown",
   "metadata": {},
   "source": [
    "## Data considered in this example\n",
    "| MB  | BH  | BL  | NH | Year  |\n",
    "|-----|-----|-----|----|-------|\n",
    "| 131 | 138 | 89  | 49 | -4000 |\n",
    "| 125 | 131 | 92  | 48 | -4000 |\n",
    "| 131 | 132 | 99  | 50 | -4000 |\n",
    "| 119 | 132 | 96  | 44 | -4000 |\n",
    "| 136 | 143 | 100 | 54 | -4000 |\n",
    "| 138 | 137 | 89  | 56 | -4000 |\n",
    "| 139 | 130 | 108 | 48 | -4000 |\n",
    "| 125 | 136 | 93  | 48 | -4000 |\n",
    "| 131 | 134 | 102 | 51 | -4000 |\n",
    "| 134 | 134 | 99  | 51 | -4000 |\n",
    "| 129 | 138 | 95  | 50 | -4000 |\n",
    "| 134 | 121 | 95  | 53 | -4000 |\n",
    "| 126 | 129 | 109 | 51 | -4000 |\n",
    "| 132 | 136 | 100 | 50 | -4000 |\n",
    "| 141 | 140 | 100 | 51 | -4000 |\n",
    "| 131 | 134 | 97  | 54 | -4000 |\n",
    "| 135 | 137 | 103 | 50 | -4000 |\n",
    "| 132 | 133 | 93  | 53 | -4000 |\n",
    "| 139 | 136 | 96  | 50 | -4000 |\n",
    "| 132 | 131 | 101 | 49 | -4000 |\n",
    "| 126 | 133 | 102 | 51 | -4000 |\n",
    "| 135 | 135 | 103 | 47 | -4000 |\n",
    "| 134 | 124 | 93  | 53 | -4000 |\n",
    "| 128 | 134 | 103 | 50 | -4000 |\n",
    "| 130 | 130 | 104 | 49 | -4000 |\n",
    "| 138 | 135 | 100 | 55 | -4000 |\n",
    "| 128 | 132 | 93  | 53 | -4000 |\n",
    "| 127 | 129 | 106 | 48 | -4000 |\n",
    "| 131 | 136 | 114 | 54 | -4000 |\n",
    "| 124 | 138 | 101 | 46 | -4000 |\n",
    "| 124 | 138 | 101 | 48 | -3300 |\n",
    "| 133 | 134 | 97  | 48 | -3300 |\n",
    "| 138 | 134 | 98  | 45 | -3300 |\n",
    "| 148 | 129 | 104 | 51 | -3300 |\n",
    "| 126 | 124 | 95  | 45 | -3300 |\n",
    "| 135 | 136 | 98  | 52 | -3300 |\n",
    "| 132 | 145 | 100 | 54 | -3300 |\n",
    "| 133 | 130 | 102 | 48 | -3300 |\n",
    "| 131 | 134 | 96  | 50 | -3300 |\n",
    "| 133 | 125 | 94  | 46 | -3300 |\n",
    "| 133 | 136 | 103 | 53 | -3300 |\n",
    "| 131 | 139 | 98  | 51 | -3300 |\n",
    "| 131 | 136 | 99  | 56 | -3300 |\n",
    "| 138 | 134 | 98  | 49 | -3300 |\n",
    "| 130 | 136 | 104 | 53 | -3300 |\n",
    "| 131 | 128 | 98  | 45 | -3300 |\n",
    "| 138 | 129 | 107 | 53 | -3300 |\n",
    "| 123 | 131 | 101 | 51 | -3300 |\n",
    "| 130 | 129 | 105 | 47 | -3300 |\n",
    "| 134 | 130 | 93  | 54 | -3300 |\n",
    "| 137 | 136 | 106 | 49 | -3300 |\n",
    "| 126 | 131 | 100 | 48 | -3300 |\n",
    "| 135 | 136 | 97  | 52 | -3300 |\n",
    "| 129 | 126 | 91  | 50 | -3300 |\n",
    "| 134 | 139 | 101 | 49 | -3300 |\n",
    "| 131 | 134 | 90  | 53 | -3300 |\n",
    "| 132 | 130 | 104 | 50 | -3300 |\n",
    "| 130 | 132 | 93  | 52 | -3300 |\n",
    "| 135 | 132 | 98  | 54 | -3300 |\n",
    "| 130 | 128 | 101 | 51 | -3300 |\n",
    "| 137 | 141 | 96  | 52 | -1850 |\n",
    "| 129 | 133 | 93  | 47 | -1850 |\n",
    "| 132 | 138 | 87  | 48 | -1850 |\n",
    "| 130 | 134 | 106 | 50 | -1850 |\n",
    "| 134 | 134 | 96  | 45 | -1850 |\n",
    "| 140 | 133 | 98  | 50 | -1850 |\n",
    "| 138 | 138 | 95  | 47 | -1850 |\n",
    "| 136 | 145 | 99  | 55 | -1850 |\n",
    "| 136 | 131 | 92  | 46 | -1850 |\n",
    "| 126 | 136 | 95  | 56 | -1850 |\n",
    "| 137 | 129 | 100 | 53 | -1850 |\n",
    "| 137 | 139 | 97  | 50 | -1850 |\n",
    "| 136 | 126 | 101 | 50 | -1850 |\n",
    "| 137 | 133 | 90  | 49 | -1850 |\n",
    "| 129 | 142 | 104 | 47 | -1850 |\n",
    "| 135 | 138 | 102 | 55 | -1850 |\n",
    "| 129 | 135 | 92  | 50 | -1850 |\n",
    "| 134 | 125 | 90  | 60 | -1850 |\n",
    "| 138 | 134 | 96  | 51 | -1850 |\n",
    "| 136 | 135 | 94  | 53 | -1850 |\n",
    "| 132 | 130 | 91  | 52 | -1850 |\n",
    "| 133 | 131 | 100 | 50 | -1850 |\n",
    "| 138 | 137 | 94  | 51 | -1850 |\n",
    "| 130 | 127 | 99  | 45 | -1850 |\n",
    "| 136 | 133 | 91  | 49 | -1850 |\n",
    "| 134 | 123 | 95  | 52 | -1850 |\n",
    "| 136 | 137 | 101 | 54 | -1850 |\n",
    "| 133 | 131 | 96  | 49 | -1850 |\n",
    "| 138 | 133 | 100 | 55 | -1850 |\n",
    "| 138 | 133 | 91  | 46 | -1850 |\n",
    "| 137 | 134 | 107 | 54 | -200  |\n",
    "| 141 | 128 | 95  | 53 | -200  |\n",
    "| 141 | 130 | 87  | 49 | -200  |\n",
    "| 135 | 131 | 99  | 51 | -200  |\n",
    "| 133 | 120 | 91  | 46 | -200  |\n",
    "| 131 | 135 | 90  | 50 | -200  |\n",
    "| 140 | 137 | 94  | 60 | -200  |\n",
    "| 139 | 130 | 90  | 48 | -200  |\n",
    "| 140 | 134 | 90  | 51 | -200  |\n",
    "| 138 | 140 | 100 | 52 | -200  |\n",
    "| 132 | 133 | 90  | 53 | -200  |\n",
    "| 134 | 134 | 97  | 54 | -200  |\n",
    "| 135 | 135 | 99  | 50 | -200  |\n",
    "| 133 | 136 | 95  | 52 | -200  |\n",
    "| 136 | 130 | 99  | 55 | -200  |\n",
    "| 134 | 137 | 93  | 52 | -200  |\n",
    "| 131 | 141 | 99  | 55 | -200  |\n",
    "| 129 | 135 | 95  | 47 | -200  |\n",
    "| 136 | 128 | 93  | 54 | -200  |\n",
    "| 131 | 125 | 88  | 48 | -200  |\n",
    "| 139 | 130 | 94  | 53 | -200  |\n",
    "| 144 | 124 | 86  | 50 | -200  |\n",
    "| 141 | 131 | 97  | 53 | -200  |\n",
    "| 130 | 131 | 98  | 53 | -200  |\n",
    "| 133 | 128 | 92  | 51 | -200  |\n",
    "| 138 | 126 | 97  | 54 | -200  |\n",
    "| 131 | 142 | 95  | 53 | -200  |\n",
    "| 136 | 138 | 94  | 55 | -200  |\n",
    "| 132 | 136 | 92  | 52 | -200  |\n",
    "| 135 | 130 | 100 | 51 | -200  |\n",
    "| 137 | 123 | 91  | 50 | 150   |\n",
    "| 136 | 131 | 95  | 49 | 150   |\n",
    "| 128 | 126 | 91  | 57 | 150   |\n",
    "| 130 | 134 | 92  | 52 | 150   |\n",
    "| 138 | 127 | 86  | 47 | 150   |\n",
    "| 126 | 138 | 101 | 52 | 150   |\n",
    "| 136 | 138 | 97  | 58 | 150   |\n",
    "| 126 | 126 | 92  | 45 | 150   |\n",
    "| 132 | 132 | 99  | 55 | 150   |\n",
    "| 139 | 135 | 92  | 54 | 150   |\n",
    "| 143 | 120 | 95  | 51 | 150   |\n",
    "| 141 | 136 | 101 | 54 | 150   |\n",
    "| 135 | 135 | 95  | 56 | 150   |\n",
    "| 137 | 134 | 93  | 53 | 150   |\n",
    "| 142 | 135 | 96  | 52 | 150   |\n",
    "| 139 | 134 | 95  | 47 | 150   |\n",
    "| 138 | 125 | 99  | 51 | 150   |\n",
    "| 137 | 135 | 96  | 54 | 150   |\n",
    "| 133 | 125 | 92  | 50 | 150   |\n",
    "| 145 | 129 | 89  | 47 | 150   |\n",
    "| 138 | 136 | 92  | 46 | 150   |\n",
    "| 131 | 129 | 97  | 44 | 150   |\n",
    "| 143 | 126 | 88  | 54 | 150   |\n",
    "| 134 | 124 | 91  | 55 | 150   |\n",
    "| 132 | 127 | 97  | 52 | 150   |\n",
    "| 137 | 125 | 85  | 57 | 150   |\n",
    "| 129 | 128 | 81  | 52 | 150   |\n",
    "| 140 | 135 | 103 | 48 | 150   |\n",
    "| 147 | 129 | 87  | 48 | 150   |\n",
    "| 136 | 133 | 97  | 51 | 150   |\n",
    "\n"
   ]
  },
  {
   "cell_type": "markdown",
   "metadata": {},
   "source": [
    "# Egyptian Skull Data ( Johnson and Wichern, Applied Multivariate Statistical Analysis)\n",
    "# Researchers have suggested that a change in skull size over time is evidence of the interbreeding of a resident population with immigrant population. Four measurements were made of male Egyptian skulls for  different time periods: Period 1 – 4000 BC Period 2 – 3300 BC Period 3 – 1850 BC. MB: Maximal Breadth of Skull BH: Basibregmatic Height of Skull BL: Basialveolar Length of Skull\n"
   ]
  },
  {
   "cell_type": "code",
   "execution_count": 1,
   "metadata": {},
   "outputs": [],
   "source": [
    "import pandas as pd\n",
    "df=pd.read_csv(\"Egyptian.csv\")"
   ]
  },
  {
   "cell_type": "markdown",
   "metadata": {},
   "source": [
    "# Step 1: Getting the data ready"
   ]
  },
  {
   "cell_type": "code",
   "execution_count": 2,
   "metadata": {},
   "outputs": [
    {
     "data": {
      "text/plain": [
       "0     -4000\n",
       "1     -4000\n",
       "2     -4000\n",
       "3     -4000\n",
       "4     -4000\n",
       "       ... \n",
       "145     150\n",
       "146     150\n",
       "147     150\n",
       "148     150\n",
       "149     150\n",
       "Name: Year, Length: 150, dtype: int64"
      ]
     },
     "execution_count": 2,
     "metadata": {},
     "output_type": "execute_result"
    }
   ],
   "source": [
    "X=df.iloc[:,:4] # the first four columns and all the rows\n",
    "y=df['Year']\n",
    "y\n"
   ]
  },
  {
   "cell_type": "markdown",
   "metadata": {},
   "source": [
    "# Step 2 : Implementation"
   ]
  },
  {
   "cell_type": "code",
   "execution_count": 3,
   "metadata": {},
   "outputs": [],
   "source": [
    "from sklearn.neighbors import KNeighborsClassifier"
   ]
  },
  {
   "cell_type": "code",
   "execution_count": 4,
   "metadata": {},
   "outputs": [
    {
     "data": {
      "text/html": [
       "<style>#sk-container-id-1 {color: black;background-color: white;}#sk-container-id-1 pre{padding: 0;}#sk-container-id-1 div.sk-toggleable {background-color: white;}#sk-container-id-1 label.sk-toggleable__label {cursor: pointer;display: block;width: 100%;margin-bottom: 0;padding: 0.3em;box-sizing: border-box;text-align: center;}#sk-container-id-1 label.sk-toggleable__label-arrow:before {content: \"▸\";float: left;margin-right: 0.25em;color: #696969;}#sk-container-id-1 label.sk-toggleable__label-arrow:hover:before {color: black;}#sk-container-id-1 div.sk-estimator:hover label.sk-toggleable__label-arrow:before {color: black;}#sk-container-id-1 div.sk-toggleable__content {max-height: 0;max-width: 0;overflow: hidden;text-align: left;background-color: #f0f8ff;}#sk-container-id-1 div.sk-toggleable__content pre {margin: 0.2em;color: black;border-radius: 0.25em;background-color: #f0f8ff;}#sk-container-id-1 input.sk-toggleable__control:checked~div.sk-toggleable__content {max-height: 200px;max-width: 100%;overflow: auto;}#sk-container-id-1 input.sk-toggleable__control:checked~label.sk-toggleable__label-arrow:before {content: \"▾\";}#sk-container-id-1 div.sk-estimator input.sk-toggleable__control:checked~label.sk-toggleable__label {background-color: #d4ebff;}#sk-container-id-1 div.sk-label input.sk-toggleable__control:checked~label.sk-toggleable__label {background-color: #d4ebff;}#sk-container-id-1 input.sk-hidden--visually {border: 0;clip: rect(1px 1px 1px 1px);clip: rect(1px, 1px, 1px, 1px);height: 1px;margin: -1px;overflow: hidden;padding: 0;position: absolute;width: 1px;}#sk-container-id-1 div.sk-estimator {font-family: monospace;background-color: #f0f8ff;border: 1px dotted black;border-radius: 0.25em;box-sizing: border-box;margin-bottom: 0.5em;}#sk-container-id-1 div.sk-estimator:hover {background-color: #d4ebff;}#sk-container-id-1 div.sk-parallel-item::after {content: \"\";width: 100%;border-bottom: 1px solid gray;flex-grow: 1;}#sk-container-id-1 div.sk-label:hover label.sk-toggleable__label {background-color: #d4ebff;}#sk-container-id-1 div.sk-serial::before {content: \"\";position: absolute;border-left: 1px solid gray;box-sizing: border-box;top: 0;bottom: 0;left: 50%;z-index: 0;}#sk-container-id-1 div.sk-serial {display: flex;flex-direction: column;align-items: center;background-color: white;padding-right: 0.2em;padding-left: 0.2em;position: relative;}#sk-container-id-1 div.sk-item {position: relative;z-index: 1;}#sk-container-id-1 div.sk-parallel {display: flex;align-items: stretch;justify-content: center;background-color: white;position: relative;}#sk-container-id-1 div.sk-item::before, #sk-container-id-1 div.sk-parallel-item::before {content: \"\";position: absolute;border-left: 1px solid gray;box-sizing: border-box;top: 0;bottom: 0;left: 50%;z-index: -1;}#sk-container-id-1 div.sk-parallel-item {display: flex;flex-direction: column;z-index: 1;position: relative;background-color: white;}#sk-container-id-1 div.sk-parallel-item:first-child::after {align-self: flex-end;width: 50%;}#sk-container-id-1 div.sk-parallel-item:last-child::after {align-self: flex-start;width: 50%;}#sk-container-id-1 div.sk-parallel-item:only-child::after {width: 0;}#sk-container-id-1 div.sk-dashed-wrapped {border: 1px dashed gray;margin: 0 0.4em 0.5em 0.4em;box-sizing: border-box;padding-bottom: 0.4em;background-color: white;}#sk-container-id-1 div.sk-label label {font-family: monospace;font-weight: bold;display: inline-block;line-height: 1.2em;}#sk-container-id-1 div.sk-label-container {text-align: center;}#sk-container-id-1 div.sk-container {/* jupyter's `normalize.less` sets `[hidden] { display: none; }` but bootstrap.min.css set `[hidden] { display: none !important; }` so we also need the `!important` here to be able to override the default hidden behavior on the sphinx rendered scikit-learn.org. See: https://github.com/scikit-learn/scikit-learn/issues/21755 */display: inline-block !important;position: relative;}#sk-container-id-1 div.sk-text-repr-fallback {display: none;}</style><div id=\"sk-container-id-1\" class=\"sk-top-container\"><div class=\"sk-text-repr-fallback\"><pre>KNeighborsClassifier(n_neighbors=8)</pre><b>In a Jupyter environment, please rerun this cell to show the HTML representation or trust the notebook. <br />On GitHub, the HTML representation is unable to render, please try loading this page with nbviewer.org.</b></div><div class=\"sk-container\" hidden><div class=\"sk-item\"><div class=\"sk-estimator sk-toggleable\"><input class=\"sk-toggleable__control sk-hidden--visually\" id=\"sk-estimator-id-1\" type=\"checkbox\" checked><label for=\"sk-estimator-id-1\" class=\"sk-toggleable__label sk-toggleable__label-arrow\">KNeighborsClassifier</label><div class=\"sk-toggleable__content\"><pre>KNeighborsClassifier(n_neighbors=8)</pre></div></div></div></div></div>"
      ],
      "text/plain": [
       "KNeighborsClassifier(n_neighbors=8)"
      ]
     },
     "execution_count": 4,
     "metadata": {},
     "output_type": "execute_result"
    }
   ],
   "source": [
    "clfk=KNeighborsClassifier(n_neighbors=8) # machinr\n",
    "clfk.fit(X,y) # training /learening"
   ]
  },
  {
   "cell_type": "code",
   "execution_count": 5,
   "metadata": {},
   "outputs": [
    {
     "name": "stdout",
     "output_type": "stream",
     "text": [
      "[ -200 -4000 -4000 -4000 -1850  -200 -3300 -4000 -4000 -4000  -200   150\n",
      " -4000 -4000 -4000  -200 -4000 -3300 -1850 -4000 -4000 -4000   150 -4000\n",
      " -3300 -1850 -4000 -4000 -3300 -4000 -4000 -4000 -3300 -3300 -3300  -200\n",
      " -1850 -4000 -3300 -3300 -4000 -3300 -3300 -3300 -4000 -3300 -3300 -3300\n",
      " -3300  -200 -4000 -4000  -200 -3300 -4000  -200 -3300 -4000  -200 -4000\n",
      " -1850 -4000 -1850 -4000 -1850   150 -1850 -1850 -1850 -4000  -200 -1850\n",
      " -1850 -1850 -4000 -3300  -200   150 -1850   150 -3300 -4000 -1850 -3300\n",
      " -1850   150 -3300 -3300 -1850 -1850 -3300  -200  -200  -200 -3300  -200\n",
      "   150 -1850 -1850 -1850  -200 -3300 -3300  -200  -200  -200 -3300 -1850\n",
      "  -200  -200  -200   150 -1850 -4000 -3300  -200  -200   150  -200  -200\n",
      "   150 -1850 -4000 -4000  -200 -4000   150 -3300  -200   150   150 -1850\n",
      "   150   150 -1850 -1850  -200   150 -3300  -200 -1850 -1850  -200 -4000\n",
      "  -200   150   150 -3300  -200 -3300]\n",
      "0     -4000\n",
      "1     -4000\n",
      "2     -4000\n",
      "3     -4000\n",
      "4     -4000\n",
      "       ... \n",
      "145     150\n",
      "146     150\n",
      "147     150\n",
      "148     150\n",
      "149     150\n",
      "Name: Year, Length: 150, dtype: int64\n"
     ]
    }
   ],
   "source": [
    "y_predk=clfk.predict(X)\n",
    "print(y_predk)\n",
    "print(y)"
   ]
  },
  {
   "cell_type": "markdown",
   "metadata": {},
   "source": [
    "# Step 3 : Obtaining Validity Metrics"
   ]
  },
  {
   "cell_type": "code",
   "execution_count": 6,
   "metadata": {},
   "outputs": [
    {
     "data": {
      "text/plain": [
       "46.0"
      ]
     },
     "execution_count": 6,
     "metadata": {},
     "output_type": "execute_result"
    }
   ],
   "source": [
    "from sklearn import metrics\n",
    "accuracy = metrics.accuracy_score(y, y_predk)\n",
    "accuracy_percentage = 100 * accuracy\n",
    "accuracy_percentage"
   ]
  },
  {
   "cell_type": "markdown",
   "metadata": {},
   "source": [
    "Confusion matrix is a matrix of Actual vs Predicted instances over various classes"
   ]
  },
  {
   "cell_type": "code",
   "execution_count": 7,
   "metadata": {},
   "outputs": [
    {
     "name": "stdout",
     "output_type": "stream",
     "text": [
      "[[17  4  3  4  2]\n",
      " [10 14  1  5  0]\n",
      " [ 5  5 14  2  4]\n",
      " [ 1  6  5 15  3]\n",
      " [ 4  4  6  7  9]]\n"
     ]
    }
   ],
   "source": [
    "from sklearn import metrics\n",
    "cm = metrics.confusion_matrix(y, y_predk)\n",
    "print(cm)"
   ]
  },
  {
   "cell_type": "markdown",
   "metadata": {},
   "source": [
    "Heat Map of confusion matrix"
   ]
  },
  {
   "cell_type": "code",
   "execution_count": 8,
   "metadata": {},
   "outputs": [
    {
     "data": {
      "image/png": "[encoded data removed]",
      "text/plain": [
       "<Figure size 640x480 with 2 Axes>"
      ]
     },
     "metadata": {},
     "output_type": "display_data"
    }
   ],
   "source": [
    "import matplotlib.pyplot as plt\n",
    "import seaborn as sns\n",
    "sns.heatmap(cm, annot=True,  linewidths=.5, square = True, cmap = 'Blues_r');\n",
    "plt.ylabel('Actual label');\n",
    "plt.xlabel('Predicted label');\n",
    "plt.title(\"Confusion Matrix\", size = 15);\n",
    "plt.show();"
   ]
  },
  {
   "cell_type": "markdown",
   "metadata": {},
   "source": [
    "# Various validity measures : Accuracy,Precision, Recall and F-measure\n"
   ]
  },
  {
   "cell_type": "code",
   "execution_count": 9,
   "metadata": {},
   "outputs": [
    {
     "name": "stdout",
     "output_type": "stream",
     "text": [
      "Accuracy: 0.46\n",
      "Precision: 0.46420119178739866\n",
      "Recall: 0.46\n",
      "F1score: 0.4555347756777051\n"
     ]
    }
   ],
   "source": [
    "print(\"Accuracy:\",metrics.accuracy_score(y, y_predk))\n",
    "print(\"Precision:\",metrics.precision_score(y, y_predk,average=\"weighted\"))\n",
    "print(\"Recall:\",metrics.recall_score(y,y_predk,average=\"weighted\"))\n",
    "print(\"F1score:\",metrics.f1_score(y,y_predk,average=\"weighted\"))"
   ]
  },
  {
   "cell_type": "code",
   "execution_count": null,
   "metadata": {},
   "outputs": [],
   "source": []
  }
 ],
 "metadata": {
  "kernelspec": {
   "display_name": "Python 3 (ipykernel)",
   "language": "python",
   "name": "python3"
  },
  "language_info": {
   "codemirror_mode": {
    "name": "ipython",
    "version": 3
   },
   "file_extension": ".py",
   "mimetype": "text/x-python",
   "name": "python",
   "nbconvert_exporter": "python",
   "pygments_lexer": "ipython3",
   "version": "3.10.9"
  }
 },
 "nbformat": 4,
 "nbformat_minor": 4
}
